{
 "cells": [
  {
   "metadata": {
    "ExecuteTime": {
     "end_time": "2024-08-19T16:56:08.294294Z",
     "start_time": "2024-08-19T16:56:08.290317Z"
    }
   },
   "cell_type": "code",
   "source": [
    "# import libraries\n",
    "import numpy as np\n",
    "import matplotlib.pyplot as plt\n",
    "import torch\n",
    "import torch.nn.functional as F"
   ],
   "id": "8c9c3a94015a3d12",
   "outputs": [],
   "execution_count": 152
  },
  {
   "cell_type": "code",
   "id": "initial_id",
   "metadata": {
    "collapsed": true,
    "ExecuteTime": {
     "end_time": "2024-08-19T16:56:54.871192Z",
     "start_time": "2024-08-19T16:56:54.865794Z"
    }
   },
   "source": [
    "# Read names from file\n",
    "names = open('first_name.txt', 'r').read().splitlines() \n",
    "names = [name.lower() for name in names]\n",
    "names[:10]"
   ],
   "outputs": [
    {
     "data": {
      "text/plain": [
       "['aachal',\n",
       " 'aadharsh',\n",
       " 'aadhavi',\n",
       " 'aadhira',\n",
       " 'aadidev',\n",
       " 'aadil',\n",
       " 'aadita',\n",
       " 'aaditya',\n",
       " 'aadiv',\n",
       " 'aadrik']"
      ]
     },
     "execution_count": 158,
     "metadata": {},
     "output_type": "execute_result"
    }
   ],
   "execution_count": 158
  },
  {
   "metadata": {
    "ExecuteTime": {
     "end_time": "2024-08-19T16:56:56.366092Z",
     "start_time": "2024-08-19T16:56:56.362837Z"
    }
   },
   "cell_type": "code",
   "source": [
    "# Create lookup tables\n",
    "itos = '.abcdefghijklmnopqrstuvwxyz;'\n",
    "stoi = {c:i for i,c in enumerate(itos)}"
   ],
   "id": "c43b8cb4f330e8d1",
   "outputs": [],
   "execution_count": 159
  },
  {
   "metadata": {
    "ExecuteTime": {
     "end_time": "2024-08-19T17:16:39.209189Z",
     "start_time": "2024-08-19T17:16:39.184915Z"
    }
   },
   "cell_type": "code",
   "source": [
    "# Create dataset\n",
    "def create_dataset(names, context_size=3):\n",
    "    X, Y = [], []\n",
    "    for name in names:\n",
    "        name = '...' + name + ';'\n",
    "        for i in range(len(name)-context_size):\n",
    "            X.append(name[i:i+context_size])\n",
    "            Y.append(name[i+context_size])\n",
    "    X = torch.tensor([[stoi[c] for c in x] for x in X])\n",
    "    Y = torch.tensor([stoi[c] for c in Y])\n",
    "    return X, Y\n",
    "\n",
    "X, Y = create_dataset(names, 4)\n",
    "for x, y in zip(X[:10], Y[:10]):\n",
    "    print(''.join([itos[i] for i in x]), itos[y])"
   ],
   "id": "d618afd4b09711b4",
   "outputs": [
    {
     "name": "stdout",
     "output_type": "stream",
     "text": [
      "...a a\n",
      "..aa c\n",
      ".aac h\n",
      "aach a\n",
      "acha l\n",
      "chal ;\n",
      "...a a\n",
      "..aa d\n",
      ".aad h\n",
      "aadh a\n"
     ]
    }
   ],
   "execution_count": 264
  },
  {
   "metadata": {
    "ExecuteTime": {
     "end_time": "2024-08-19T17:17:57.691559Z",
     "start_time": "2024-08-19T17:17:57.682825Z"
    }
   },
   "cell_type": "code",
   "source": [
    "import random\n",
    "\n",
    "# Create model\n",
    "C = torch.randn(28, 10, requires_grad=True)\n",
    "W1 = torch.randn(10*4, 100, requires_grad=True)\n",
    "b1 = torch.randn(100, requires_grad=True)\n",
    "W2 = torch.randn(100, 100, requires_grad=True)\n",
    "b2 = torch.randn(100, requires_grad=True)\n",
    "W3 = torch.randn(100, 28, requires_grad=True)\n",
    "b3 = torch.randn(28, requires_grad=True)\n",
    "\n",
    "P = [C, W1, b1, W2, b2, W3, b3]\n",
    "\n",
    "def forward(X):\n",
    "    X = F.embedding(X, C)\n",
    "    X = X.view(-1, 10*4)\n",
    "    X = F.relu(X @ W1 + b1)\n",
    "    X = X @ W2 + b2\n",
    "    X = F.relu(X)\n",
    "    X = X @ W3 + b3\n",
    "    return X\n",
    "\n",
    "def loss(X, Y):\n",
    "    loss = F.cross_entropy(forward(X), Y)\n",
    "    for p in P:\n",
    "        loss += 0.0001 * (p**2).sum()\n",
    "    return loss\n",
    "\n",
    "def accuracy(X, Y):\n",
    "    return (forward(X).argmax(1) == Y).float().mean()\n",
    "\n",
    "def step(X, Y, lr=0.01, batch_size=32):\n",
    "    idx = random.sample(range(len(X)), batch_size)\n",
    "    X = X[idx]\n",
    "    Y = Y[idx]\n",
    "    l = loss(X, Y)\n",
    "    for p in P:\n",
    "        p.grad = None\n",
    "    l.backward()\n",
    "    for p in P:\n",
    "        p.data -= lr*p.grad\n",
    "    return l.item()\n",
    "\n",
    "def train(X, Y, epochs=100, lr=0.01):\n",
    "    for epoch in range(epochs):\n",
    "        l = step(X, Y, lr)\n",
    "        if epoch % 100 == 0:\n",
    "            print(epoch, l, accuracy(X, Y).item())"
   ],
   "id": "a87784f9b9f0a2fa",
   "outputs": [],
   "execution_count": 274
  },
  {
   "metadata": {
    "ExecuteTime": {
     "end_time": "2024-08-19T17:17:32.687502Z",
     "start_time": "2024-08-19T17:17:32.681371Z"
    }
   },
   "cell_type": "code",
   "source": [
    "# total number of params\n",
    "sum(p.numel() for p in P)"
   ],
   "id": "dc8cf59629f3bff0",
   "outputs": [
    {
     "data": {
      "text/plain": [
       "17308"
      ]
     },
     "execution_count": 268,
     "metadata": {},
     "output_type": "execute_result"
    }
   ],
   "execution_count": 268
  },
  {
   "metadata": {
    "ExecuteTime": {
     "end_time": "2024-08-19T17:18:19.433880Z",
     "start_time": "2024-08-19T17:18:15.975242Z"
    }
   },
   "cell_type": "code",
   "source": [
    "# Train model\n",
    "train(X, Y, 10000, 0.001)"
   ],
   "id": "bf6de1ec836a84d2",
   "outputs": [
    {
     "name": "stdout",
     "output_type": "stream",
     "text": [
      "0 3.562666416168213 0.3784450590610504\n",
      "100 3.5421464443206787 0.3788679838180542\n",
      "200 3.4053053855895996 0.38013675808906555\n",
      "300 3.3716511726379395 0.3783745765686035\n",
      "400 3.4755024909973145 0.3792204260826111\n",
      "500 3.211449384689331 0.375696063041687\n",
      "600 3.6703765392303467 0.384084016084671\n",
      "700 3.9137752056121826 0.37971383333206177\n",
      "800 3.5759856700897217 0.37978431582450867\n",
      "900 3.474231004714966 0.3794318735599518\n",
      "1000 3.889256238937378 0.38274475932121277\n",
      "1100 3.598310708999634 0.38359060883522034\n",
      "1200 3.6254358291625977 0.3788679838180542\n",
      "1300 3.4715847969055176 0.38006624579429626\n",
      "1400 3.43725323677063 0.3811940550804138\n",
      "1500 3.7963099479675293 0.3791499137878418\n",
      "1600 3.636589765548706 0.37978431582450867\n",
      "1700 3.4648468494415283 0.37766969203948975\n",
      "1800 3.353379249572754 0.38055965304374695\n",
      "1900 3.356842517852783 0.379290908575058\n",
      "2000 3.377269983291626 0.3811235725879669\n",
      "2100 3.0334577560424805 0.38027772307395935\n",
      "2200 3.585686206817627 0.3814055025577545\n",
      "2300 3.540799140930176 0.3820399045944214\n",
      "2400 3.6232237815856934 0.38352012634277344\n",
      "2500 2.967895746231079 0.38105309009552\n",
      "2600 3.691455364227295 0.38373157382011414\n",
      "2700 3.324219226837158 0.3841544985771179\n",
      "2800 3.74845027923584 0.3812645375728607\n",
      "2900 3.038257360458374 0.38253331184387207\n",
      "3000 3.6605916023254395 0.3816874623298645\n",
      "3100 2.9800894260406494 0.38098257780075073\n",
      "3200 3.456874132156372 0.38330864906311035\n",
      "3300 3.232229471206665 0.38084161281585693\n",
      "3400 3.5736358165740967 0.3815464973449707\n",
      "3500 3.431049346923828 0.3813350200653076\n",
      "3600 3.4609646797180176 0.3814055025577545\n",
      "3700 3.9738309383392334 0.38626912236213684\n",
      "3800 3.3482484817504883 0.3846479058265686\n",
      "3900 3.788917303085327 0.3818989098072052\n",
      "4000 3.504337787628174 0.3816169798374176\n",
      "4100 3.871190309524536 0.38260379433631897\n",
      "4200 3.497426748275757 0.3812645375728607\n",
      "4300 3.6967995166778564 0.38070064783096313\n",
      "4400 3.3566057682037354 0.38098257780075073\n",
      "4500 3.637829065322876 0.3820399045944214\n",
      "4600 3.696822166442871 0.3842954933643341\n",
      "4700 3.6477444171905518 0.38013675808906555\n",
      "4800 3.581897735595703 0.38070064783096313\n",
      "4900 3.217294692993164 0.3817579448223114\n",
      "5000 3.428189754486084 0.38295623660087585\n",
      "5100 3.439890146255493 0.38105309009552\n",
      "5200 3.2715704441070557 0.3815464973449707\n",
      "5300 3.7355268001556396 0.379290908575058\n",
      "5400 3.471919059753418 0.3811940550804138\n",
      "5500 3.523242473602295 0.38041868805885315\n",
      "5600 3.947222948074341 0.3817579448223114\n",
      "5700 3.548595666885376 0.37781065702438354\n",
      "5800 3.1543335914611816 0.382321834564209\n",
      "5900 3.0737369060516357 0.3786565065383911\n",
      "6000 3.5851991176605225 0.3793613910675049\n",
      "6100 3.4229016304016113 0.3794318735599518\n",
      "6200 3.337618350982666 0.38034820556640625\n",
      "6300 3.457589626312256 0.3816874623298645\n",
      "6400 3.280634880065918 0.38091209530830383\n",
      "6500 3.461663246154785 0.3814759850502014\n",
      "6600 4.138833045959473 0.38006624579429626\n",
      "6700 3.1381311416625977 0.3814055025577545\n",
      "6800 3.45693039894104 0.3817579448223114\n",
      "6900 3.3744592666625977 0.38274475932121277\n",
      "7000 3.288034200668335 0.3788679838180542\n",
      "7100 3.549487590789795 0.3850708305835724\n",
      "7200 3.7745752334594727 0.38084161281585693\n",
      "7300 3.851803779602051 0.3814055025577545\n",
      "7400 3.7160699367523193 0.3811235725879669\n",
      "7500 3.856745481491089 0.3841544985771179\n",
      "7600 3.524120330810547 0.3840135335922241\n",
      "7700 3.5095150470733643 0.3794318735599518\n",
      "7800 3.4135007858276367 0.379290908575058\n",
      "7900 3.316426992416382 0.38048917055130005\n",
      "8000 3.801334857940674 0.3813350200653076\n",
      "8100 3.9413042068481445 0.3851413130760193\n",
      "8200 3.447629928588867 0.38359060883522034\n",
      "8300 3.5449001789093018 0.38084161281585693\n",
      "8400 3.3265533447265625 0.38105309009552\n",
      "8500 3.771260976791382 0.38626912236213684\n",
      "8600 3.5189788341522217 0.3788679838180542\n",
      "8700 3.1650991439819336 0.38055965304374695\n",
      "8800 3.5300917625427246 0.38246282935142517\n",
      "8900 3.6792612075805664 0.3815464973449707\n",
      "9000 3.526495933532715 0.3816874623298645\n",
      "9100 3.784555196762085 0.38352012634277344\n",
      "9200 3.081535816192627 0.3853527903556824\n",
      "9300 3.1949801445007324 0.38549375534057617\n",
      "9400 3.65095591545105 0.38041868805885315\n",
      "9500 3.5009922981262207 0.38309720158576965\n",
      "9600 3.4235658645629883 0.38055965304374695\n",
      "9700 3.5177505016326904 0.38098257780075073\n",
      "9800 3.5863823890686035 0.38006624579429626\n",
      "9900 3.2046611309051514 0.38006624579429626\n"
     ]
    }
   ],
   "execution_count": 278
  },
  {
   "metadata": {
    "ExecuteTime": {
     "end_time": "2024-08-19T17:24:22.705125Z",
     "start_time": "2024-08-19T17:24:22.697038Z"
    }
   },
   "cell_type": "code",
   "source": [
    "# Predict\n",
    "def predict(name=''):\n",
    "    context = [0, 0, 0, 0]\n",
    "    for ch in name:\n",
    "        i = stoi[ch]\n",
    "        context.append(i)\n",
    "    for i in range(20):\n",
    "        x = torch.tensor([context[-4:]])\n",
    "        logits = forward(x)\n",
    "        y = torch.multinomial(F.softmax(logits, 1), 1).item()\n",
    "        context.append(y)\n",
    "        if y == 27:\n",
    "            break\n",
    "    name = ''.join([itos[i] for i in context])\n",
    "    name = name.replace('.', '')\n",
    "    name = name.replace(';', '')\n",
    "    return name\n",
    "\n",
    "predict('amai')"
   ],
   "id": "1cb9575e2d2d9de4",
   "outputs": [
    {
     "data": {
      "text/plain": [
       "'amaishlaya'"
      ]
     },
     "execution_count": 336,
     "metadata": {},
     "output_type": "execute_result"
    }
   ],
   "execution_count": 336
  }
 ],
 "metadata": {
  "kernelspec": {
   "display_name": "Python 3",
   "language": "python",
   "name": "python3"
  },
  "language_info": {
   "codemirror_mode": {
    "name": "ipython",
    "version": 2
   },
   "file_extension": ".py",
   "mimetype": "text/x-python",
   "name": "python",
   "nbconvert_exporter": "python",
   "pygments_lexer": "ipython2",
   "version": "2.7.6"
  }
 },
 "nbformat": 4,
 "nbformat_minor": 5
}
