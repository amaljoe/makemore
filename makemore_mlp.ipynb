{
 "cells": [
  {
   "metadata": {
    "ExecuteTime": {
     "end_time": "2024-08-20T14:11:31.399130Z",
     "start_time": "2024-08-20T14:11:30.618902Z"
    }
   },
   "cell_type": "code",
   "source": [
    "# import libraries\n",
    "import numpy as np\n",
    "import matplotlib.pyplot as plt\n",
    "import torch\n",
    "import torch.nn.functional as F"
   ],
   "id": "8c9c3a94015a3d12",
   "outputs": [],
   "execution_count": 1
  },
  {
   "cell_type": "code",
   "id": "initial_id",
   "metadata": {
    "collapsed": true,
    "ExecuteTime": {
     "end_time": "2024-08-22T05:07:52.525098Z",
     "start_time": "2024-08-22T05:07:52.520311Z"
    }
   },
   "source": [
    "# Read names from file\n",
    "names = open('first_name.txt', 'r').read().splitlines() \n",
    "names = [name.lower() for name in names]\n",
    "names[:10], len(names)"
   ],
   "outputs": [
    {
     "data": {
      "text/plain": [
       "(['aachal',\n",
       "  'aadharsh',\n",
       "  'aadhavi',\n",
       "  'aadhira',\n",
       "  'aadidev',\n",
       "  'aadil',\n",
       "  'aadita',\n",
       "  'aaditya',\n",
       "  'aadiv',\n",
       "  'aadrik'],\n",
       " 2195)"
      ]
     },
     "execution_count": 432,
     "metadata": {},
     "output_type": "execute_result"
    }
   ],
   "execution_count": 432
  },
  {
   "metadata": {
    "ExecuteTime": {
     "end_time": "2024-08-22T05:09:30.660945Z",
     "start_time": "2024-08-22T05:09:30.654957Z"
    }
   },
   "cell_type": "code",
   "source": [
    "import random\n",
    "random.sample(names, 10)"
   ],
   "id": "1a92532549c66758",
   "outputs": [
    {
     "data": {
      "text/plain": [
       "['chandrashekhar',\n",
       " 'prayadarshi',\n",
       " 'devbrat',\n",
       " 'ravinderpreet',\n",
       " 'suramya',\n",
       " 'janaki',\n",
       " 'anshit',\n",
       " 'devirupa',\n",
       " 'avnindra',\n",
       " 'swasti']"
      ]
     },
     "execution_count": 436,
     "metadata": {},
     "output_type": "execute_result"
    }
   ],
   "execution_count": 436
  },
  {
   "metadata": {
    "ExecuteTime": {
     "end_time": "2024-08-20T14:20:49.882649Z",
     "start_time": "2024-08-20T14:20:49.879848Z"
    }
   },
   "cell_type": "code",
   "source": [
    "# Create lookup tables\n",
    "itos = '.abcdefghijklmnopqrstuvwxyz;'\n",
    "stoi = {c:i for i,c in enumerate(itos)}"
   ],
   "id": "c43b8cb4f330e8d1",
   "outputs": [],
   "execution_count": 23
  },
  {
   "metadata": {
    "ExecuteTime": {
     "end_time": "2024-08-20T14:26:20.246182Z",
     "start_time": "2024-08-20T14:26:20.199213Z"
    }
   },
   "cell_type": "code",
   "source": [
    "import random\n",
    "\n",
    "# Create dataset\n",
    "def create_dataset(names, context_size=3):\n",
    "    X, Y = [], []\n",
    "    for name in names:\n",
    "        name = '..' + name + ';'\n",
    "        for i in range(len(name)-context_size):\n",
    "            X.append(([stoi[ch] for ch in name[i:i+context_size]]) + [i])\n",
    "            Y.append(stoi[name[i+context_size]])\n",
    "    X = torch.tensor(X)\n",
    "    Y = torch.tensor(Y)\n",
    "    return X, Y\n",
    "\n",
    "names = random.sample(names, len(names))\n",
    "n_train = int(0.8*len(names))\n",
    "n_val = int(0.9*len(names))\n",
    "X, Y = create_dataset(names[:n_train], 2)\n",
    "X_val, Y_val = create_dataset(names[n_train:n_val], 2)\n",
    "X_test, Y_test = create_dataset(names[n_val:], 2)\n",
    "for x, y in zip(X[:10], Y[:10]):\n",
    "    print(x, y)"
   ],
   "id": "d618afd4b09711b4",
   "outputs": [
    {
     "name": "stdout",
     "output_type": "stream",
     "text": [
      "tensor([0, 0, 0]) tensor(25)\n",
      "tensor([ 0, 25,  1]) tensor(21)\n",
      "tensor([25, 21,  2]) tensor(20)\n",
      "tensor([21, 20,  3]) tensor(9)\n",
      "tensor([20,  9,  4]) tensor(11)\n",
      "tensor([ 9, 11,  5]) tensor(1)\n",
      "tensor([11,  1,  6]) tensor(27)\n",
      "tensor([0, 0, 0]) tensor(2)\n",
      "tensor([0, 2, 1]) tensor(8)\n",
      "tensor([2, 8, 2]) tensor(1)\n"
     ]
    }
   ],
   "execution_count": 35
  },
  {
   "metadata": {
    "ExecuteTime": {
     "end_time": "2024-08-22T06:21:54.543181Z",
     "start_time": "2024-08-22T06:21:54.534756Z"
    }
   },
   "cell_type": "code",
   "source": [
    "import random\n",
    "\n",
    "# Create model\n",
    "C = torch.randn(28, 2, requires_grad=True)\n",
    "W1 = torch.randn(2*2 + 1, 100, requires_grad=True)\n",
    "b1 = torch.randn(100, requires_grad=True)\n",
    "W2 = torch.randn(100, 28, requires_grad=True)\n",
    "b2 = torch.randn(28, requires_grad=True)\n",
    "\n",
    "P = [C, W1, b1, W2, b2]\n",
    "\n",
    "def forward(X):\n",
    "    X, XI = X[:, :-1], X[:, -1:]\n",
    "    X = F.embedding(X, C)\n",
    "    X = X.view(-1, 2*2)\n",
    "    X = torch.cat([X, XI.float()], 1)\n",
    "    X = F.tanh(X @ W1 + b1)\n",
    "    X = X @ W2 + b2\n",
    "    return X\n",
    "\n",
    "def loss(X, Y):\n",
    "    loss = F.cross_entropy(forward(X), Y)\n",
    "    for p in P:\n",
    "        loss += 0.0001 * (p**2).sum()\n",
    "    return loss\n",
    "\n",
    "def accuracy(X, Y):\n",
    "    return (forward(X).argmax(1) == Y).float().mean()\n",
    "\n",
    "def step(X, Y, lr=0.01, batch_size=32):\n",
    "    idx = random.sample(range(len(X)), batch_size)\n",
    "    X = X[idx]\n",
    "    Y = Y[idx]\n",
    "    l = loss(X, Y)\n",
    "    for p in P:\n",
    "        p.grad = None\n",
    "    l.backward()\n",
    "    for p in P:\n",
    "        p.data -= lr*p.grad\n",
    "    return l.item()\n",
    "\n",
    "def train(X, Y, epochs=10000, lr=0.01, batch_size=32):\n",
    "    for epoch in range(epochs):\n",
    "        l = step(X, Y, lr, batch_size)\n",
    "        if epoch % 1000 == 0:\n",
    "            print(epoch, l, accuracy(X, Y).item())"
   ],
   "id": "a87784f9b9f0a2fa",
   "outputs": [],
   "execution_count": 763
  },
  {
   "metadata": {
    "ExecuteTime": {
     "end_time": "2024-08-22T06:21:32.209241Z",
     "start_time": "2024-08-22T06:21:32.203124Z"
    }
   },
   "cell_type": "code",
   "source": [
    "# total number of params\n",
    "sum(p.numel() for p in P)"
   ],
   "id": "dc8cf59629f3bff0",
   "outputs": [
    {
     "data": {
      "text/plain": [
       "3484"
      ]
     },
     "execution_count": 762,
     "metadata": {},
     "output_type": "execute_result"
    }
   ],
   "execution_count": 762
  },
  {
   "metadata": {
    "ExecuteTime": {
     "end_time": "2024-08-22T06:22:15.164678Z",
     "start_time": "2024-08-22T06:21:57.775657Z"
    }
   },
   "cell_type": "code",
   "source": [
    "# Train model\n",
    "train(X, Y, 10000, 0.01, batch_size=2048)"
   ],
   "id": "bf6de1ec836a84d2",
   "outputs": [
    {
     "name": "stdout",
     "output_type": "stream",
     "text": [
      "0 17.149017333984375 0.05961377173662186\n",
      "1000 3.6223037242889404 0.24700404703617096\n",
      "2000 3.21490216255188 0.2953973114490509\n",
      "3000 2.980501651763916 0.31051063537597656\n",
      "4000 2.857954263687134 0.31302952766418457\n",
      "5000 2.873389482498169 0.3178383409976959\n",
      "6000 2.708935260772705 0.3234867453575134\n",
      "7000 2.7502834796905518 0.32440271973609924\n",
      "8000 2.699195146560669 0.32638728618621826\n",
      "9000 2.6800663471221924 0.3288298547267914\n"
     ]
    }
   ],
   "execution_count": 764
  },
  {
   "metadata": {
    "ExecuteTime": {
     "end_time": "2024-08-22T06:22:33.333087Z",
     "start_time": "2024-08-22T06:22:33.324834Z"
    }
   },
   "cell_type": "code",
   "source": [
    "# Predict\n",
    "def predict(name=''):\n",
    "    given_length = len(name)\n",
    "    context = [0, 0, 0, 0]\n",
    "    for ch in name:\n",
    "        i = stoi[ch]\n",
    "        context.append(i)\n",
    "    for i in range(given_length, 20):\n",
    "        x = torch.tensor([context[-2:] + [i]])\n",
    "        logits = forward(x)\n",
    "        choice = random.random()\n",
    "        if choice < 0.8 ** i:\n",
    "            y = torch.multinomial(F.softmax(logits, 1), 1).item()\n",
    "        else:\n",
    "            y = logits.argmax(1).item()\n",
    "        context.append(y)\n",
    "        if y == 27:\n",
    "            break\n",
    "    name = ''.join([itos[i] for i in context])\n",
    "    name = name.replace('.', '')\n",
    "    name = name.replace(';', '')\n",
    "    return name\n",
    "\n",
    "for _ in range(5):\n",
    "    print(predict(''))"
   ],
   "id": "1cb9575e2d2d9de4",
   "outputs": [
    {
     "name": "stdout",
     "output_type": "stream",
     "text": [
      "nani\n",
      "aesha\n",
      "manin\n",
      "suhun\n",
      "karin\n"
     ]
    }
   ],
   "execution_count": 768
  },
  {
   "metadata": {},
   "cell_type": "code",
   "outputs": [],
   "execution_count": null,
   "source": "",
   "id": "137945eb1d3335d3"
  }
 ],
 "metadata": {
  "kernelspec": {
   "display_name": "Python 3",
   "language": "python",
   "name": "python3"
  },
  "language_info": {
   "codemirror_mode": {
    "name": "ipython",
    "version": 2
   },
   "file_extension": ".py",
   "mimetype": "text/x-python",
   "name": "python",
   "nbconvert_exporter": "python",
   "pygments_lexer": "ipython2",
   "version": "2.7.6"
  }
 },
 "nbformat": 4,
 "nbformat_minor": 5
}
