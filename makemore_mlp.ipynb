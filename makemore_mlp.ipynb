{
 "cells": [
  {
   "metadata": {
    "ExecuteTime": {
     "end_time": "2024-08-18T13:02:43.900656Z",
     "start_time": "2024-08-18T13:02:43.896243Z"
    }
   },
   "cell_type": "code",
   "source": [
    "# import libraries\n",
    "import numpy as np\n",
    "import matplotlib.pyplot as plt\n",
    "import torch\n",
    "import torch.nn.functional as F"
   ],
   "id": "8c9c3a94015a3d12",
   "outputs": [],
   "execution_count": 2
  },
  {
   "cell_type": "code",
   "id": "initial_id",
   "metadata": {
    "collapsed": true,
    "ExecuteTime": {
     "end_time": "2024-08-18T13:02:51.785672Z",
     "start_time": "2024-08-18T13:02:51.777186Z"
    }
   },
   "source": [
    "# Read names from file\n",
    "names = open('names.txt', 'r').read().splitlines() \n",
    "names[:10]"
   ],
   "outputs": [
    {
     "data": {
      "text/plain": [
       "['emma',\n",
       " 'olivia',\n",
       " 'ava',\n",
       " 'isabella',\n",
       " 'sophia',\n",
       " 'charlotte',\n",
       " 'mia',\n",
       " 'amelia',\n",
       " 'harper',\n",
       " 'evelyn']"
      ]
     },
     "execution_count": 4,
     "metadata": {},
     "output_type": "execute_result"
    }
   ],
   "execution_count": 4
  },
  {
   "metadata": {
    "ExecuteTime": {
     "end_time": "2024-08-18T14:12:56.723013Z",
     "start_time": "2024-08-18T14:12:56.720098Z"
    }
   },
   "cell_type": "code",
   "source": [
    "# Create lookup tables\n",
    "itos = '.abcdefghijklmnopqrstuvwxyz;'\n",
    "stoi = {c:i for i,c in enumerate(itos)}"
   ],
   "id": "c43b8cb4f330e8d1",
   "outputs": [],
   "execution_count": 88
  },
  {
   "metadata": {
    "ExecuteTime": {
     "end_time": "2024-08-18T14:12:58.485751Z",
     "start_time": "2024-08-18T14:12:58.202968Z"
    }
   },
   "cell_type": "code",
   "source": [
    "# Create dataset\n",
    "def create_dataset(names, context_size=3):\n",
    "    X, Y, XI = [], [], []\n",
    "    for name in names:\n",
    "        name = '...' + name + ';'\n",
    "        for i in range(len(name)-context_size):\n",
    "            X.append(name[i:i+context_size])\n",
    "            XI.append(i)\n",
    "            Y.append(name[i+context_size])\n",
    "    X = torch.tensor([[stoi[c] for c in x] for x in X])\n",
    "    XI = torch.tensor(XI)\n",
    "    \n",
    "    X = torch.cat([X, XI[:,None]], 1)\n",
    "    Y = torch.tensor([stoi[c] for c in Y])\n",
    "    return X, Y\n",
    "\n",
    "X, Y = create_dataset(names, 4)\n",
    "for x, y in zip(X[:10], Y[:10]):\n",
    "    print(x, '->', y)"
   ],
   "id": "d618afd4b09711b4",
   "outputs": [
    {
     "name": "stdout",
     "output_type": "stream",
     "text": [
      "tensor([0, 0, 0, 5, 0]) -> tensor(13)\n",
      "tensor([ 0,  0,  5, 13,  1]) -> tensor(13)\n",
      "tensor([ 0,  5, 13, 13,  2]) -> tensor(1)\n",
      "tensor([ 5, 13, 13,  1,  3]) -> tensor(27)\n",
      "tensor([ 0,  0,  0, 15,  0]) -> tensor(12)\n",
      "tensor([ 0,  0, 15, 12,  1]) -> tensor(9)\n",
      "tensor([ 0, 15, 12,  9,  2]) -> tensor(22)\n",
      "tensor([15, 12,  9, 22,  3]) -> tensor(9)\n",
      "tensor([12,  9, 22,  9,  4]) -> tensor(1)\n",
      "tensor([ 9, 22,  9,  1,  5]) -> tensor(27)\n"
     ]
    }
   ],
   "execution_count": 89
  },
  {
   "metadata": {
    "ExecuteTime": {
     "end_time": "2024-08-18T14:15:28.451072Z",
     "start_time": "2024-08-18T14:15:28.440520Z"
    }
   },
   "cell_type": "code",
   "source": [
    "import random\n",
    "\n",
    "# Create model\n",
    "C = torch.randn(28, 10, requires_grad=True)\n",
    "W1 = torch.randn(10*4 + 1, 100, requires_grad=True)\n",
    "b1 = torch.randn(100, requires_grad=True)\n",
    "W2 = torch.randn(100, 100, requires_grad=True)\n",
    "b2 = torch.randn(100, requires_grad=True)\n",
    "W3 = torch.randn(100, 28, requires_grad=True)\n",
    "b3 = torch.randn(28, requires_grad=True)\n",
    "\n",
    "P = [C, W1, b1, W2, b2, W3, b3]\n",
    "\n",
    "def forward(X):\n",
    "    X, XI = X[:, :-1], X[:, -1]\n",
    "    X = F.embedding(X, C)\n",
    "    X = X.view(-1, 10*4)\n",
    "    X = torch.cat([X, XI[:,None].float()], 1)\n",
    "    X = F.relu(X @ W1 + b1)\n",
    "    X = X @ W2 + b2\n",
    "    X = F.relu(X)\n",
    "    X = X @ W3 + b3\n",
    "    return X\n",
    "\n",
    "def loss(X, Y):\n",
    "    loss = F.cross_entropy(forward(X), Y)\n",
    "    for p in P:\n",
    "        loss += 0.0001 * (p**2).sum()\n",
    "    return loss\n",
    "\n",
    "def accuracy(X, Y):\n",
    "    return (forward(X).argmax(1) == Y).float().mean()\n",
    "\n",
    "def step(X, Y, lr=0.01, batch_size=32):\n",
    "    idx = random.sample(range(len(X)), batch_size)\n",
    "    X = X[idx]\n",
    "    Y = Y[idx]\n",
    "    l = loss(X, Y)\n",
    "    for p in P:\n",
    "        p.grad = None\n",
    "    l.backward()\n",
    "    for p in P:\n",
    "        p.data -= lr*p.grad\n",
    "    return l.item()\n",
    "\n",
    "def train(X, Y, epochs=100, lr=0.01):\n",
    "    for epoch in range(epochs):\n",
    "        l = step(X, Y, lr)\n",
    "        if epoch % 100 == 0:\n",
    "            print(epoch, l, accuracy(X, Y).item())"
   ],
   "id": "a87784f9b9f0a2fa",
   "outputs": [],
   "execution_count": 94
  },
  {
   "metadata": {
    "ExecuteTime": {
     "end_time": "2024-08-18T14:15:00.076130Z",
     "start_time": "2024-08-18T14:15:00.070339Z"
    }
   },
   "cell_type": "code",
   "source": [
    "# total number of params\n",
    "sum(p.numel() for p in P)"
   ],
   "id": "dc8cf59629f3bff0",
   "outputs": [
    {
     "data": {
      "text/plain": [
       "17408"
      ]
     },
     "execution_count": 91,
     "metadata": {},
     "output_type": "execute_result"
    }
   ],
   "execution_count": 91
  },
  {
   "metadata": {
    "ExecuteTime": {
     "end_time": "2024-08-18T14:16:23.483731Z",
     "start_time": "2024-08-18T14:16:22.827475Z"
    }
   },
   "cell_type": "code",
   "source": [
    "# Train model\n",
    "train(X, Y, 1000, 0.00001)"
   ],
   "id": "bf6de1ec836a84d2",
   "outputs": [
    {
     "name": "stdout",
     "output_type": "stream",
     "text": [
      "0 3.9788262844085693 0.2947688400745392\n",
      "100 4.2408671379089355 0.2947637438774109\n",
      "200 3.834761381149292 0.29481473565101624\n",
      "300 3.79052472114563 0.2948249280452728\n",
      "400 3.5075337886810303 0.29479432106018066\n",
      "500 4.196124076843262 0.29481983184814453\n",
      "600 3.6210403442382812 0.2947790324687958\n",
      "700 3.6931583881378174 0.29481983184814453\n",
      "800 3.5826494693756104 0.2948300242424011\n",
      "900 4.05354118347168 0.29488611221313477\n"
     ]
    }
   ],
   "execution_count": 117
  },
  {
   "metadata": {
    "ExecuteTime": {
     "end_time": "2024-08-18T14:19:04.025085Z",
     "start_time": "2024-08-18T14:19:04.017870Z"
    }
   },
   "cell_type": "code",
   "source": [
    "# Predict\n",
    "def predict(name=''):\n",
    "    context = [0, 0, 0, 0]\n",
    "    for ch in name:\n",
    "        i = stoi[ch]\n",
    "        context.append(i)\n",
    "    for i in range(20):\n",
    "        x = torch.tensor([context[-4:] + [i]])\n",
    "        logits = forward(x)\n",
    "        y = torch.multinomial(F.softmax(logits, 1), 1).item()\n",
    "        context.append(y)\n",
    "        if y == 27:\n",
    "            break\n",
    "    name = ''.join([itos[i] for i in context])\n",
    "    name = name.replace('.', '')\n",
    "    name = name.replace(';', '')\n",
    "    return name\n",
    "\n",
    "predict('aka')"
   ],
   "id": "1cb9575e2d2d9de4",
   "outputs": [
    {
     "data": {
      "text/plain": [
       "'akayaer'"
      ]
     },
     "execution_count": 125,
     "metadata": {},
     "output_type": "execute_result"
    }
   ],
   "execution_count": 125
  }
 ],
 "metadata": {
  "kernelspec": {
   "display_name": "Python 3",
   "language": "python",
   "name": "python3"
  },
  "language_info": {
   "codemirror_mode": {
    "name": "ipython",
    "version": 2
   },
   "file_extension": ".py",
   "mimetype": "text/x-python",
   "name": "python",
   "nbconvert_exporter": "python",
   "pygments_lexer": "ipython2",
   "version": "2.7.6"
  }
 },
 "nbformat": 4,
 "nbformat_minor": 5
}
