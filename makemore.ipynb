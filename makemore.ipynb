{
 "cells": [
  {
   "metadata": {
    "ExecuteTime": {
     "end_time": "2024-08-18T06:58:20.507316Z",
     "start_time": "2024-08-18T06:58:20.504187Z"
    }
   },
   "cell_type": "code",
   "source": [
    "import numpy as np\n",
    "import torch\n",
    "import torch.nn.functional as F\n",
    "import seaborn as sns\n",
    "import matplotlib.pyplot as plt"
   ],
   "id": "7cba85bf72d0f6d0",
   "outputs": [],
   "execution_count": 26
  },
  {
   "cell_type": "code",
   "id": "initial_id",
   "metadata": {
    "collapsed": true,
    "ExecuteTime": {
     "end_time": "2024-08-19T16:55:49.015690Z",
     "start_time": "2024-08-19T16:55:48.931264Z"
    }
   },
   "source": [
    "# import names from names.txt\n",
    "names = []\n",
    "\n",
    "with open('first_name.txt') as f:\n",
    "    names = f.readlines()\n",
    "    names = [f'.{name.lower().strip()}.' for name in names]\n",
    "\n",
    "for name in names[:10]:\n",
    "    print(name)"
   ],
   "outputs": [
    {
     "ename": "FileNotFoundError",
     "evalue": "[Errno 2] No such file or directory: 'first_name.txt'",
     "output_type": "error",
     "traceback": [
      "\u001B[0;31m---------------------------------------------------------------------------\u001B[0m",
      "\u001B[0;31mFileNotFoundError\u001B[0m                         Traceback (most recent call last)",
      "Cell \u001B[0;32mIn[163], line 4\u001B[0m\n\u001B[1;32m      1\u001B[0m \u001B[38;5;66;03m# import names from names.txt\u001B[39;00m\n\u001B[1;32m      2\u001B[0m names \u001B[38;5;241m=\u001B[39m []\n\u001B[0;32m----> 4\u001B[0m \u001B[38;5;28;01mwith\u001B[39;00m \u001B[38;5;28;43mopen\u001B[39;49m\u001B[43m(\u001B[49m\u001B[38;5;124;43m'\u001B[39;49m\u001B[38;5;124;43mfirst_name.txt\u001B[39;49m\u001B[38;5;124;43m'\u001B[39;49m\u001B[43m)\u001B[49m \u001B[38;5;28;01mas\u001B[39;00m f:\n\u001B[1;32m      5\u001B[0m     names \u001B[38;5;241m=\u001B[39m f\u001B[38;5;241m.\u001B[39mreadlines()\n\u001B[1;32m      6\u001B[0m     names \u001B[38;5;241m=\u001B[39m [\u001B[38;5;124mf\u001B[39m\u001B[38;5;124m'\u001B[39m\u001B[38;5;124m.\u001B[39m\u001B[38;5;132;01m{\u001B[39;00mname\u001B[38;5;241m.\u001B[39mlower()\u001B[38;5;241m.\u001B[39mstrip()\u001B[38;5;132;01m}\u001B[39;00m\u001B[38;5;124m.\u001B[39m\u001B[38;5;124m'\u001B[39m \u001B[38;5;28;01mfor\u001B[39;00m name \u001B[38;5;129;01min\u001B[39;00m names]\n",
      "File \u001B[0;32m~/Desktop/Workspace/AI/makemore/venv/lib/python3.9/site-packages/IPython/core/interactiveshell.py:310\u001B[0m, in \u001B[0;36m_modified_open\u001B[0;34m(file, *args, **kwargs)\u001B[0m\n\u001B[1;32m    303\u001B[0m \u001B[38;5;28;01mif\u001B[39;00m file \u001B[38;5;129;01min\u001B[39;00m {\u001B[38;5;241m0\u001B[39m, \u001B[38;5;241m1\u001B[39m, \u001B[38;5;241m2\u001B[39m}:\n\u001B[1;32m    304\u001B[0m     \u001B[38;5;28;01mraise\u001B[39;00m \u001B[38;5;167;01mValueError\u001B[39;00m(\n\u001B[1;32m    305\u001B[0m         \u001B[38;5;124mf\u001B[39m\u001B[38;5;124m\"\u001B[39m\u001B[38;5;124mIPython won\u001B[39m\u001B[38;5;124m'\u001B[39m\u001B[38;5;124mt let you open fd=\u001B[39m\u001B[38;5;132;01m{\u001B[39;00mfile\u001B[38;5;132;01m}\u001B[39;00m\u001B[38;5;124m by default \u001B[39m\u001B[38;5;124m\"\u001B[39m\n\u001B[1;32m    306\u001B[0m         \u001B[38;5;124m\"\u001B[39m\u001B[38;5;124mas it is likely to crash IPython. If you know what you are doing, \u001B[39m\u001B[38;5;124m\"\u001B[39m\n\u001B[1;32m    307\u001B[0m         \u001B[38;5;124m\"\u001B[39m\u001B[38;5;124myou can use builtins\u001B[39m\u001B[38;5;124m'\u001B[39m\u001B[38;5;124m open.\u001B[39m\u001B[38;5;124m\"\u001B[39m\n\u001B[1;32m    308\u001B[0m     )\n\u001B[0;32m--> 310\u001B[0m \u001B[38;5;28;01mreturn\u001B[39;00m \u001B[43mio_open\u001B[49m\u001B[43m(\u001B[49m\u001B[43mfile\u001B[49m\u001B[43m,\u001B[49m\u001B[43m \u001B[49m\u001B[38;5;241;43m*\u001B[39;49m\u001B[43margs\u001B[49m\u001B[43m,\u001B[49m\u001B[43m \u001B[49m\u001B[38;5;241;43m*\u001B[39;49m\u001B[38;5;241;43m*\u001B[39;49m\u001B[43mkwargs\u001B[49m\u001B[43m)\u001B[49m\n",
      "\u001B[0;31mFileNotFoundError\u001B[0m: [Errno 2] No such file or directory: 'first_name.txt'"
     ]
    }
   ],
   "execution_count": 163
  },
  {
   "metadata": {
    "ExecuteTime": {
     "end_time": "2024-08-18T06:58:30.259842Z",
     "start_time": "2024-08-18T06:58:30.257012Z"
    }
   },
   "cell_type": "code",
   "source": [
    "itos = 'abcdefghijklmnopqrstuvwxyz.'\n",
    "stoi = {c: i for i, c in enumerate(itos)}"
   ],
   "id": "56e9ade7dcd15f9a",
   "outputs": [],
   "execution_count": 28
  },
  {
   "metadata": {
    "ExecuteTime": {
     "end_time": "2024-08-18T06:58:31.812998Z",
     "start_time": "2024-08-18T06:58:31.734271Z"
    }
   },
   "cell_type": "code",
   "source": [
    "N = np.zeros((27, 27))  \n",
    "\n",
    "for name in names:\n",
    "    for ch1, ch2 in zip(name, name[1:]):\n",
    "        i, j = stoi[ch1], stoi[ch2]\n",
    "        N[i][j] += 1\n",
    "\n",
    "N = torch.tensor(N).float()\n",
    "N = N / N.sum(axis=1, keepdims=True)\n",
    "N[0]"
   ],
   "id": "cf8d3b4cdca8daeb",
   "outputs": [
    {
     "data": {
      "text/plain": [
       "tensor([0.0164, 0.0160, 0.0139, 0.0308, 0.0204, 0.0040, 0.0050, 0.0688, 0.0487,\n",
       "        0.0052, 0.0168, 0.0746, 0.0482, 0.1605, 0.0019, 0.0024, 0.0018, 0.0963,\n",
       "        0.0330, 0.0203, 0.0112, 0.0246, 0.0048, 0.0054, 0.0605, 0.0128, 0.1960])"
      ]
     },
     "execution_count": 29,
     "metadata": {},
     "output_type": "execute_result"
    }
   ],
   "execution_count": 29
  },
  {
   "metadata": {
    "ExecuteTime": {
     "end_time": "2024-08-18T06:58:43.669204Z",
     "start_time": "2024-08-18T06:58:43.541976Z"
    }
   },
   "cell_type": "code",
   "source": [
    "sns.heatmap(N, xticklabels=itos, yticklabels=itos)\n",
    "plt.show()"
   ],
   "id": "4f51cc2d49638db0",
   "outputs": [
    {
     "data": {
      "text/plain": [
       "<Figure size 640x480 with 2 Axes>"
      ],
      "image/png": "[encoded data removed]"
     },
     "metadata": {},
     "output_type": "display_data"
    }
   ],
   "execution_count": 30
  },
  {
   "metadata": {
    "ExecuteTime": {
     "end_time": "2024-08-18T10:54:58.417293Z",
     "start_time": "2024-08-18T10:54:58.411060Z"
    }
   },
   "cell_type": "code",
   "source": [
    "for _ in range(10):\n",
    "    name = ['.']\n",
    "    \n",
    "    while True:\n",
    "        i = stoi[name[-1]]\n",
    "        p = N[i]\n",
    "        j = torch.multinomial(p, 1).item()\n",
    "        name.append(itos[j])\n",
    "        if name[-1] == '.':\n",
    "            break\n",
    "            \n",
    "    print(''.join(name))"
   ],
   "id": "68db4191b7c927f1",
   "outputs": [
    {
     "name": "stdout",
     "output_type": "stream",
     "text": [
      ".jagri.\n",
      ".c.\n",
      ".m.\n",
      ".ein.\n",
      ".a.\n",
      ".me.\n",
      ".mi.\n",
      ".davr.\n",
      ".macharar.\n",
      ".ias.\n"
     ]
    }
   ],
   "execution_count": 162
  },
  {
   "metadata": {
    "ExecuteTime": {
     "end_time": "2024-08-18T10:53:41.733128Z",
     "start_time": "2024-08-18T10:53:41.188935Z"
    }
   },
   "cell_type": "code",
   "source": [
    "ll = 0\n",
    "count = 0\n",
    "for name in names:\n",
    "    for ch1, ch2 in zip(name, name[1:]):\n",
    "        i, j = stoi[ch1], stoi[ch2]\n",
    "        ll += N[i][j].log()\n",
    "        count += 1\n",
    "        \n",
    "nll = -ll / count\n",
    "nll.item()"
   ],
   "id": "7933a37c2196c2bc",
   "outputs": [
    {
     "data": {
      "text/plain": [
       "2.454094171524048"
      ]
     },
     "execution_count": 159,
     "metadata": {},
     "output_type": "execute_result"
    }
   ],
   "execution_count": 159
  },
  {
   "metadata": {
    "ExecuteTime": {
     "end_time": "2024-08-18T10:49:43.400561Z",
     "start_time": "2024-08-18T10:49:38.714636Z"
    }
   },
   "cell_type": "code",
   "source": [
    "W = torch.randn(27, 27, requires_grad=True)\n",
    "\n",
    "x = torch.tensor([])\n",
    "y = torch.tensor([])\n",
    "\n",
    "for name in names:\n",
    "    for ch1, ch2 in zip(name, name[1:]):\n",
    "        i, j = stoi[ch1], stoi[ch2]\n",
    "        x = torch.cat([x, torch.tensor([i]).float()])\n",
    "        y = torch.cat([y, torch.tensor([j]).float()])\n",
    "        \n",
    "# one hot\n",
    "x = F.one_hot(x.long(), 27).float()\n",
    "y = y.long()\n",
    "        \n",
    "x.shape, y.shape"
   ],
   "id": "b2932965d7ff689d",
   "outputs": [
    {
     "data": {
      "text/plain": [
       "(torch.Size([228146, 27]), torch.Size([228146]))"
      ]
     },
     "execution_count": 130,
     "metadata": {},
     "output_type": "execute_result"
    }
   ],
   "execution_count": 130
  },
  {
   "metadata": {
    "ExecuteTime": {
     "end_time": "2024-08-18T10:51:28.865109Z",
     "start_time": "2024-08-18T10:51:27.412829Z"
    }
   },
   "cell_type": "code",
   "source": [
    "for _ in range(100):\n",
    "    logits = x @ W\n",
    "    counts = logits.exp()\n",
    "    probs = counts / counts.sum(dim=1, keepdim=True)\n",
    "    loss = -probs[torch.arange(y.shape[0]), y].log().mean()\n",
    "    print(loss)\n",
    "    \n",
    "    W.grad = None\n",
    "    loss.backward()\n",
    "    \n",
    "    W.data -= 0.1 * W.grad\n",
    "    "
   ],
   "id": "9a84df10c0e4d209",
   "outputs": [
    {
     "name": "stdout",
     "output_type": "stream",
     "text": [
      "tensor(2.4647, grad_fn=<NegBackward0>)\n",
      "tensor(2.4647, grad_fn=<NegBackward0>)\n",
      "tensor(2.4647, grad_fn=<NegBackward0>)\n",
      "tensor(2.4647, grad_fn=<NegBackward0>)\n",
      "tensor(2.4647, grad_fn=<NegBackward0>)\n",
      "tensor(2.4647, grad_fn=<NegBackward0>)\n",
      "tensor(2.4647, grad_fn=<NegBackward0>)\n",
      "tensor(2.4647, grad_fn=<NegBackward0>)\n",
      "tensor(2.4647, grad_fn=<NegBackward0>)\n",
      "tensor(2.4647, grad_fn=<NegBackward0>)\n",
      "tensor(2.4647, grad_fn=<NegBackward0>)\n",
      "tensor(2.4647, grad_fn=<NegBackward0>)\n",
      "tensor(2.4647, grad_fn=<NegBackward0>)\n",
      "tensor(2.4647, grad_fn=<NegBackward0>)\n",
      "tensor(2.4647, grad_fn=<NegBackward0>)\n",
      "tensor(2.4647, grad_fn=<NegBackward0>)\n",
      "tensor(2.4647, grad_fn=<NegBackward0>)\n",
      "tensor(2.4647, grad_fn=<NegBackward0>)\n",
      "tensor(2.4647, grad_fn=<NegBackward0>)\n",
      "tensor(2.4647, grad_fn=<NegBackward0>)\n",
      "tensor(2.4647, grad_fn=<NegBackward0>)\n",
      "tensor(2.4647, grad_fn=<NegBackward0>)\n",
      "tensor(2.4647, grad_fn=<NegBackward0>)\n",
      "tensor(2.4647, grad_fn=<NegBackward0>)\n",
      "tensor(2.4647, grad_fn=<NegBackward0>)\n",
      "tensor(2.4647, grad_fn=<NegBackward0>)\n",
      "tensor(2.4647, grad_fn=<NegBackward0>)\n",
      "tensor(2.4647, grad_fn=<NegBackward0>)\n",
      "tensor(2.4647, grad_fn=<NegBackward0>)\n",
      "tensor(2.4647, grad_fn=<NegBackward0>)\n",
      "tensor(2.4647, grad_fn=<NegBackward0>)\n",
      "tensor(2.4647, grad_fn=<NegBackward0>)\n",
      "tensor(2.4647, grad_fn=<NegBackward0>)\n",
      "tensor(2.4647, grad_fn=<NegBackward0>)\n",
      "tensor(2.4647, grad_fn=<NegBackward0>)\n",
      "tensor(2.4647, grad_fn=<NegBackward0>)\n",
      "tensor(2.4647, grad_fn=<NegBackward0>)\n",
      "tensor(2.4647, grad_fn=<NegBackward0>)\n",
      "tensor(2.4647, grad_fn=<NegBackward0>)\n",
      "tensor(2.4647, grad_fn=<NegBackward0>)\n",
      "tensor(2.4647, grad_fn=<NegBackward0>)\n",
      "tensor(2.4647, grad_fn=<NegBackward0>)\n",
      "tensor(2.4647, grad_fn=<NegBackward0>)\n",
      "tensor(2.4647, grad_fn=<NegBackward0>)\n",
      "tensor(2.4647, grad_fn=<NegBackward0>)\n",
      "tensor(2.4647, grad_fn=<NegBackward0>)\n",
      "tensor(2.4647, grad_fn=<NegBackward0>)\n",
      "tensor(2.4647, grad_fn=<NegBackward0>)\n",
      "tensor(2.4647, grad_fn=<NegBackward0>)\n",
      "tensor(2.4647, grad_fn=<NegBackward0>)\n",
      "tensor(2.4647, grad_fn=<NegBackward0>)\n",
      "tensor(2.4647, grad_fn=<NegBackward0>)\n",
      "tensor(2.4647, grad_fn=<NegBackward0>)\n",
      "tensor(2.4647, grad_fn=<NegBackward0>)\n",
      "tensor(2.4647, grad_fn=<NegBackward0>)\n",
      "tensor(2.4647, grad_fn=<NegBackward0>)\n",
      "tensor(2.4647, grad_fn=<NegBackward0>)\n",
      "tensor(2.4647, grad_fn=<NegBackward0>)\n",
      "tensor(2.4647, grad_fn=<NegBackward0>)\n",
      "tensor(2.4647, grad_fn=<NegBackward0>)\n",
      "tensor(2.4647, grad_fn=<NegBackward0>)\n",
      "tensor(2.4647, grad_fn=<NegBackward0>)\n",
      "tensor(2.4647, grad_fn=<NegBackward0>)\n",
      "tensor(2.4647, grad_fn=<NegBackward0>)\n",
      "tensor(2.4647, grad_fn=<NegBackward0>)\n",
      "tensor(2.4647, grad_fn=<NegBackward0>)\n",
      "tensor(2.4647, grad_fn=<NegBackward0>)\n",
      "tensor(2.4647, grad_fn=<NegBackward0>)\n",
      "tensor(2.4647, grad_fn=<NegBackward0>)\n",
      "tensor(2.4647, grad_fn=<NegBackward0>)\n",
      "tensor(2.4647, grad_fn=<NegBackward0>)\n",
      "tensor(2.4647, grad_fn=<NegBackward0>)\n",
      "tensor(2.4647, grad_fn=<NegBackward0>)\n",
      "tensor(2.4647, grad_fn=<NegBackward0>)\n",
      "tensor(2.4647, grad_fn=<NegBackward0>)\n",
      "tensor(2.4647, grad_fn=<NegBackward0>)\n",
      "tensor(2.4647, grad_fn=<NegBackward0>)\n",
      "tensor(2.4647, grad_fn=<NegBackward0>)\n",
      "tensor(2.4647, grad_fn=<NegBackward0>)\n",
      "tensor(2.4647, grad_fn=<NegBackward0>)\n",
      "tensor(2.4647, grad_fn=<NegBackward0>)\n",
      "tensor(2.4647, grad_fn=<NegBackward0>)\n",
      "tensor(2.4647, grad_fn=<NegBackward0>)\n",
      "tensor(2.4647, grad_fn=<NegBackward0>)\n",
      "tensor(2.4647, grad_fn=<NegBackward0>)\n",
      "tensor(2.4647, grad_fn=<NegBackward0>)\n",
      "tensor(2.4647, grad_fn=<NegBackward0>)\n",
      "tensor(2.4647, grad_fn=<NegBackward0>)\n",
      "tensor(2.4647, grad_fn=<NegBackward0>)\n",
      "tensor(2.4647, grad_fn=<NegBackward0>)\n",
      "tensor(2.4647, grad_fn=<NegBackward0>)\n",
      "tensor(2.4647, grad_fn=<NegBackward0>)\n",
      "tensor(2.4647, grad_fn=<NegBackward0>)\n",
      "tensor(2.4647, grad_fn=<NegBackward0>)\n",
      "tensor(2.4647, grad_fn=<NegBackward0>)\n",
      "tensor(2.4647, grad_fn=<NegBackward0>)\n",
      "tensor(2.4647, grad_fn=<NegBackward0>)\n",
      "tensor(2.4647, grad_fn=<NegBackward0>)\n",
      "tensor(2.4647, grad_fn=<NegBackward0>)\n",
      "tensor(2.4647, grad_fn=<NegBackward0>)\n"
     ]
    }
   ],
   "execution_count": 158
  },
  {
   "metadata": {
    "ExecuteTime": {
     "end_time": "2024-08-18T10:54:48.367150Z",
     "start_time": "2024-08-18T10:54:48.360193Z"
    }
   },
   "cell_type": "code",
   "source": [
    "for _ in range(10):\n",
    "    name = ['.']\n",
    "    \n",
    "    while True:\n",
    "        i = stoi[name[-1]]\n",
    "        p = F.softmax(W[i], dim=0)\n",
    "        j = torch.multinomial(p, 1).item()\n",
    "        name.append(itos[j])\n",
    "        if name[-1] == '.':\n",
    "            break\n",
    "            \n",
    "    print(''.join(name))"
   ],
   "id": "eec1313c8ac7b620",
   "outputs": [
    {
     "name": "stdout",
     "output_type": "stream",
     "text": [
      ".ka.\n",
      ".jisami.\n",
      ".ethali.\n",
      ".dm.\n",
      ".kia.\n",
      ".hanaysamiziqustriniah.\n",
      ".ta.\n",
      ".bikna.\n",
      ".yuoros.\n",
      ".pes.\n"
     ]
    }
   ],
   "execution_count": 161
  }
 ],
 "metadata": {
  "kernelspec": {
   "display_name": "Python 3",
   "language": "python",
   "name": "python3"
  },
  "language_info": {
   "codemirror_mode": {
    "name": "ipython",
    "version": 2
   },
   "file_extension": ".py",
   "mimetype": "text/x-python",
   "name": "python",
   "nbconvert_exporter": "python",
   "pygments_lexer": "ipython2",
   "version": "2.7.6"
  }
 },
 "nbformat": 4,
 "nbformat_minor": 5
}
